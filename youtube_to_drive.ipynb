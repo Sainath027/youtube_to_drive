{
  "nbformat": 4,
  "nbformat_minor": 0,
  "metadata": {
    "colab": {
      "name": "Copy of youtube_to_drive.ipynb",
      "provenance": [],
      "collapsed_sections": [],
      "include_colab_link": true
    },
    "kernelspec": {
      "name": "python3",
      "display_name": "Python 3"
    },
    "language_info": {
      "name": "python"
    }
  },
  "cells": [
    {
      "cell_type": "markdown",
      "metadata": {
        "id": "view-in-github",
        "colab_type": "text"
      },
      "source": [
        "<a href=\"https://colab.research.google.com/github/Sainath027/youtube_to_drive/blob/main/youtube_to_drive.ipynb\" target=\"_parent\"><img src=\"https://colab.research.google.com/assets/colab-badge.svg\" alt=\"Open In Colab\"/></a>"
      ]
    },
    {
      "cell_type": "code",
      "metadata": {
        "id": "Mw8WOw15ufti",
        "cellView": "form"
      },
      "source": [
        "#@title Mounting drive to colab\n",
        "from google.colab import drive\n",
        "drive.mount('/content/drive')\n"
      ],
      "execution_count": null,
      "outputs": []
    },
    {
      "cell_type": "code",
      "metadata": {
        "id": "k5aQyZ7svFK8",
        "cellView": "form"
      },
      "source": [
        "#@title Installing Pytube \n",
        "!pip install pytube\n",
        "import pytube"
      ],
      "execution_count": null,
      "outputs": []
    },
    {
      "cell_type": "code",
      "metadata": {
        "id": "jDvA8HWCurTa"
      },
      "source": [
        "#@title Youtube Playlist Downloader with or without Indexing\n",
        "playlist_url=\"\"#@param {type:\"string\"}\n",
        "pl=pytube.Playlist(playlist_url)\n",
        "pl=pl.video_urls\n",
        "path_or_fileName=\"\"#@param {type:\"string\"}\n",
        "path=\"/content/drive/MyDrive/Youtube_Downloads/playlists/\"+path_or_fileName\n",
        "starting_index =  1 #@param {type:\"integer\"}\n",
        "k=starting_index-1\n",
        "ending_index = 0 #@param {type:\"integer\"}\n",
        "l=ending_index\n",
        "if(l==0):\n",
        "  l=len(pl)\n",
        "output_starting_index=1 #@param {type:\"integer\"}\n",
        "indexing= True #@param{type:\"boolean\"}\n",
        "count=0\n",
        "for s in range(k,l):\n",
        "  video=pytube.YouTube(pl[s])\n",
        "  video=video.streams.get_highest_resolution()\n",
        "  if indexing:\n",
        "    video.download(path,\"\",str(output_starting_index)+\" \")\n",
        "  else:\n",
        "    video.download(path,\"\",\"\")\n",
        "  print(\"downloading the video \",output_starting_index,\"  \",count,)\n",
        "  count=count+1\n",
        "  output_starting_index=output_starting_index+1"
      ],
      "execution_count": null,
      "outputs": []
    },
    {
      "cell_type": "code",
      "metadata": {
        "id": "UYaw2cJBaNfD",
        "cellView": "form"
      },
      "source": [
        "#@title Youtube Video Downloader\n",
        "video_url=\"\"#@param{type:\"string\"}\n",
        "path_or_fileName=\"\"#@param {type:\"string\"}\n",
        "path=\"/content/drive/MyDrive/Youtube_Downloads/videos\"+path_or_fileName\n",
        "video=pytube.YouTube(video_url)\n",
        "video=video.streams.get_highest_resolution()\n",
        "video.download(path,\"\",\"\")\n",
        "print(\"Downloaded Successfully\")"
      ],
      "execution_count": null,
      "outputs": []
    }
  ]
}