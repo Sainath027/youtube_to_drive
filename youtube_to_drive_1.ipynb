{
  "nbformat": 4,
  "nbformat_minor": 0,
  "metadata": {
    "colab": {
      "name": "youtube_to_drive.ipynb",
      "provenance": []
    },
    "kernelspec": {
      "name": "python3",
      "display_name": "Python 3"
    },
    "language_info": {
      "name": "python"
    }
  },
  "cells": [
    {
      "cell_type": "code",
      "metadata": {
        "id": "Mw8WOw15ufti"
      },
      "source": [
        "#@title Mounting drive to colab\n",
        "from google.colab import drive\n",
        "drive.mount('/content/drive')\n"
      ],
      "execution_count": null,
      "outputs": []
    },
    {
      "cell_type": "code",
      "metadata": {
        "id": "k5aQyZ7svFK8"
      },
      "source": [
        "#@title Installing Pytube \n",
        "!pip install pytube"
      ],
      "execution_count": null,
      "outputs": []
    },
    {
      "cell_type": "code",
      "metadata": {
        "id": "jDvA8HWCurTa"
      },
      "source": [
        "import pytube\n",
        "playlist_url=\"\"#@param {type:\"string\"}\n",
        "pl=pytube.Playlist(playlist_url)\n",
        "pl=pl.video_urls\n",
        "path=\"\"#@param {type:\"string\"}\n",
        "starting_index =  0 #@param {type:\"integer\"}\n",
        "k=starting_index\n",
        "ending_index =  0 #@param {type:\"integer\"}\n",
        "l=ending_index\n",
        "if(l==0):\n",
        "  l=len(pl)\n",
        "count=0\n",
        "for s in range(k,l):\n",
        "  video=pytube.YouTube(pl[s])\n",
        "  video=video.streams.get_highest_resolution()\n",
        "  video.download(path,\"\",str(s+1)+\" \")\n",
        "  print(\"downloading the video \",s+1,\"  \",count)\n",
        "  count=count+1"
      ],
      "execution_count": null,
      "outputs": []
    }
  ]
}